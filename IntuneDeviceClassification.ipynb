{
 "cells": [
  {
   "cell_type": "markdown",
   "metadata": {},
   "source": [
    "# Device Classification Setup (Setup Instructions)"
   ]
  },
  {
   "cell_type": "markdown",
   "metadata": {},
   "source": [
    "## Environment Setup"
   ]
  },
  {
   "cell_type": "markdown",
   "metadata": {},
   "source": [
    "- Make sure you prepared the .env file in the root directory of the project. (Check the README for default values)"
   ]
  },
  {
   "cell_type": "markdown",
   "metadata": {},
   "source": [
    "### Variables"
   ]
  },
  {
   "cell_type": "markdown",
   "metadata": {},
   "source": [
    "#### Load Variables from .env File in current directory"
   ]
  },
  {
   "cell_type": "code",
   "execution_count": null,
   "metadata": {
    "dotnet_interactive": {
     "language": "pwsh"
    },
    "polyglot_notebook": {
     "kernelName": "pwsh"
    }
   },
   "outputs": [],
   "source": [
    "$varlist = @()\n",
    "get-content .env | foreach {\n",
    "    $name, $value = $_.split('=').Trim().Replace('\"', '')\n",
    "    if (!([string]::IsNullOrWhiteSpace($name) -or $name.Contains('#'))) {\n",
    "      $varlist += @(New-Object PSObject -Property @{Name=$name;Value=$value})\n",
    "      Set-Variable -name $name -value $value\n",
    "    }\n",
    "}\n",
    "$PubCertFilePath = \".\\Certificate\\$($PubCertifcateFileName)\"\n",
    "$PrivCertFilePath = \".\\Certificate\\$($PrivCertifcateFileName)\"\n",
    "$varlist += @(New-Object PSObject -Property @{Name=\"PubCertFilePath\";Value=$PubCertFilePath})\n",
    "$varlist += @(New-Object PSObject -Property @{Name=\"PrivCertFilePath\";Value=$PubCertFilePath})\n",
    "$varlist | select Name, Value | ft -AutoSize\n",
    "Remove-Variable name, value, varlist"
   ]
  },
  {
   "cell_type": "markdown",
   "metadata": {},
   "source": [
    "### Uninstall Az Modules (optional)"
   ]
  },
  {
   "cell_type": "code",
   "execution_count": null,
   "metadata": {
    "dotnet_interactive": {
     "language": "pwsh"
    },
    "polyglot_notebook": {
     "kernelName": "pwsh"
    }
   },
   "outputs": [],
   "source": [
    "# Uninstall All Az Modules\n",
    "Uninstall-Module -Name Az\n",
    "\n",
    "# Uninstall Microsoft.Graph.Authentication Module\n",
    "Uninstall-Module -Name Microsoft.Graph.Authentication"
   ]
  },
  {
   "cell_type": "markdown",
   "metadata": {},
   "source": [
    "### Install Powershell Modules"
   ]
  },
  {
   "cell_type": "code",
   "execution_count": null,
   "metadata": {
    "dotnet_interactive": {
     "language": "pwsh"
    },
    "polyglot_notebook": {
     "kernelName": "pwsh"
    }
   },
   "outputs": [],
   "source": [
    "Install-Module -Name Az.Accounts -Repository PSGallery -Force\n",
    "Install-Module -Name Az.Resources -Repository PSGallery -Force\n",
    "Install-Module -Name Az.Automation -Repository PSGallery -Force\n",
    "Install-Module -Name Microsoft.Graph.Authentication -Repository PSGallery -Force"
   ]
  },
  {
   "cell_type": "code",
   "execution_count": null,
   "metadata": {
    "dotnet_interactive": {
     "language": "pwsh"
    },
    "polyglot_notebook": {
     "kernelName": "pwsh"
    }
   },
   "outputs": [],
   "source": [
    "Get-Module -ListAvailable -Name Az* | Select-Object Name,Version\n",
    "Get-Module -ListAvailable -Name Microsoft.Graph.Authentication | Select-Object Name,Version"
   ]
  },
  {
   "cell_type": "markdown",
   "metadata": {},
   "source": [
    "## Intune Remediation Script"
   ]
  },
  {
   "cell_type": "markdown",
   "metadata": {},
   "source": [
    "### Connect GraphAPI"
   ]
  },
  {
   "cell_type": "code",
   "execution_count": null,
   "metadata": {
    "dotnet_interactive": {
     "language": "pwsh"
    },
    "polyglot_notebook": {
     "kernelName": "pwsh"
    }
   },
   "outputs": [],
   "source": [
    "Connect-MgGraph -TenantId $TenantID -NoWelcome\n",
    "Get-MgContext"
   ]
  },
  {
   "cell_type": "markdown",
   "metadata": {},
   "source": [
    "### Create Intune Remediation Script Package"
   ]
  },
  {
   "cell_type": "code",
   "execution_count": null,
   "metadata": {
    "dotnet_interactive": {
     "language": "pwsh"
    },
    "polyglot_notebook": {
     "kernelName": "pwsh"
    }
   },
   "outputs": [],
   "source": [
    "$EncodedDetectionScript = [convert]::ToBase64String((Get-Content '.\\Remediation Script\\detect.ps1' -AsByteStream))\n",
    "$RemediationScriptUri = \"https://graph.microsoft.com/beta/deviceManagement/deviceHealthScripts\"\n",
    "$DetectionScriptPackage = @\"\n",
    "{\n",
    "  \"@odata.type\": \"#microsoft.graph.deviceHealthScript\",\n",
    "  \"publisher\": \"$RemediationScriptPublisher\",\n",
    "  \"version\": \"1.0\",\n",
    "  \"displayName\": \"$RemediationScriptName\",\n",
    "  \"description\": \"Uses only a detection script. It detects the device classification and outputs the classification as preRemediationDetectionScriptOutput property. This property is later being used in a Azure Automation Runbook to set the Entra ID device extensionAttribute1-15\",\n",
    "  \"detectionScriptContent\": \"$EncodedDetectionScript\",\n",
    "  \"runAsAccount\": \"system\",\n",
    "  \"runAs32Bit\": \"False\"\n",
    "}\n",
    "\"@\n",
    "$RemediationScript = Invoke-MgGraphRequest -Uri $RemediationScriptUri -Method POST -Body $DetectionScriptPackage\n",
    "$RemediationScriptID = $RemediationScript.id\n",
    "$RemediationScript | select displayName, publisher,runAsAccount, runAs32Bit, id"
   ]
  },
  {
   "cell_type": "markdown",
   "metadata": {},
   "source": [
    "### Deploy the Remediation Script Package"
   ]
  },
  {
   "cell_type": "code",
   "execution_count": null,
   "metadata": {
    "dotnet_interactive": {
     "language": "pwsh"
    },
    "polyglot_notebook": {
     "kernelName": "pwsh"
    }
   },
   "outputs": [],
   "source": [
    "$IntunePortalLinkRS = \"https://intune.microsoft.com/#view/Microsoft_Intune_Enrollment/UXAnalyticsScriptMenu/~/overview/id/$RemediationScriptID/scriptName/$RemediationScriptName/isFirstParty~/false\"\n",
    "$IntunePortalLinkRS = [URI]::EscapeUriString($IntunePortalLinkRS)\n",
    "Write-Host \"Goto: ($IntunePortalLinkRS)\""
   ]
  },
  {
   "cell_type": "markdown",
   "metadata": {},
   "source": [
    "Goto the link above and deploy the Remediation Script Package to your target devices."
   ]
  },
  {
   "cell_type": "markdown",
   "metadata": {},
   "source": [
    "## Certificate\n",
    "\n",
    "\n"
   ]
  },
  {
   "cell_type": "markdown",
   "metadata": {},
   "source": [
    "There are two ways to create a certificate for the device:\n",
    " - Create a self-signed certificate\n",
    " - Create a certificate signed by a CA"
   ]
  },
  {
   "cell_type": "markdown",
   "metadata": {},
   "source": [
    "### New Self-Signed Certificate (Option 1)"
   ]
  },
  {
   "cell_type": "markdown",
   "metadata": {},
   "source": [
    "#### Set Password"
   ]
  },
  {
   "cell_type": "code",
   "execution_count": null,
   "metadata": {
    "dotnet_interactive": {
     "language": "pwsh"
    },
    "polyglot_notebook": {
     "kernelName": "pwsh"
    }
   },
   "outputs": [],
   "source": [
    "#!set --name CertifcatePassword --value @password:\"Please enter a Certificate password\""
   ]
  },
  {
   "cell_type": "markdown",
   "metadata": {},
   "source": [
    "#### Create new self-signed certificate"
   ]
  },
  {
   "cell_type": "code",
   "execution_count": null,
   "metadata": {
    "dotnet_interactive": {
     "language": "pwsh"
    },
    "polyglot_notebook": {
     "kernelName": "pwsh"
    }
   },
   "outputs": [],
   "source": [
    "\n",
    "$NewSelfSignedCertificate = New-SelfSignedCertificate -Subject \"CN=$CertifcateName\" -CertStoreLocation \"Cert:\\CurrentUser\\My\" -KeyExportPolicy Exportable -KeySpec Signature -KeyLength 2048 -KeyAlgorithm RSA -HashAlgorithm SHA256\n",
    "$NewSelfSignedCertificate"
   ]
  },
  {
   "cell_type": "markdown",
   "metadata": {},
   "source": [
    "#### Export Certificate (without private key) to file"
   ]
  },
  {
   "cell_type": "code",
   "execution_count": null,
   "metadata": {
    "dotnet_interactive": {
     "language": "pwsh"
    },
    "polyglot_notebook": {
     "kernelName": "pwsh"
    }
   },
   "outputs": [],
   "source": [
    "$PubCertFile = Export-Certificate -Cert $NewSelfSignedCertificate -FilePath $PubCertFilePath\n",
    "$PubCertFile"
   ]
  },
  {
   "cell_type": "markdown",
   "metadata": {},
   "source": [
    "#### Export Certificate (with private key)"
   ]
  },
  {
   "cell_type": "code",
   "execution_count": null,
   "metadata": {
    "dotnet_interactive": {
     "language": "pwsh"
    },
    "polyglot_notebook": {
     "kernelName": "pwsh"
    }
   },
   "outputs": [],
   "source": [
    "$mypwd = ConvertTo-SecureString -String $CertifcatePassword -Force -AsPlainText \n",
    "$PrivCertFile = Export-PfxCertificate -Cert $NewSelfSignedCertificate -FilePath $PrivCertFilePath -Password $mypwd\n",
    "$PrivCertFile"
   ]
  },
  {
   "cell_type": "markdown",
   "metadata": {},
   "source": [
    "#### Remove Certificate"
   ]
  },
  {
   "cell_type": "code",
   "execution_count": null,
   "metadata": {
    "dotnet_interactive": {
     "language": "pwsh"
    },
    "polyglot_notebook": {
     "kernelName": "pwsh"
    }
   },
   "outputs": [],
   "source": [
    "$NewSelfSignedCertificate.Thumbprint"
   ]
  },
  {
   "cell_type": "code",
   "execution_count": null,
   "metadata": {
    "dotnet_interactive": {
     "language": "pwsh"
    },
    "polyglot_notebook": {
     "kernelName": "pwsh"
    }
   },
   "outputs": [],
   "source": [
    "Remove-Item -Path Cert:\\CurrentUser\\My\\$($NewSelfSignedCertificate.Thumbprint) -DeleteKey"
   ]
  },
  {
   "cell_type": "markdown",
   "metadata": {},
   "source": [
    "### Get CA Certificate (Option 2)"
   ]
  },
  {
   "cell_type": "markdown",
   "metadata": {},
   "source": [
    "Place the CA certificates in Certificate folder. Rename according to values of PubCertifcateFileName and PrivCertifcateFileName frome .env file."
   ]
  },
  {
   "cell_type": "code",
   "execution_count": null,
   "metadata": {
    "dotnet_interactive": {
     "language": "pwsh"
    },
    "polyglot_notebook": {
     "kernelName": "pwsh"
    }
   },
   "outputs": [],
   "source": [
    "Write-Host \"PubCertFilePath : $(Test-Path -Path $PubCertFilePath)\"\n",
    "Write-Host \"PrivCertFilePath: $(Test-Path -Path $PrivCertFilePath)\""
   ]
  },
  {
   "cell_type": "markdown",
   "metadata": {},
   "source": [
    "## App Registration"
   ]
  },
  {
   "cell_type": "markdown",
   "metadata": {},
   "source": [
    "### Connect to Azure Subscription"
   ]
  },
  {
   "cell_type": "code",
   "execution_count": null,
   "metadata": {
    "dotnet_interactive": {
     "language": "pwsh"
    },
    "polyglot_notebook": {
     "kernelName": "pwsh"
    }
   },
   "outputs": [],
   "source": [
    "Connect-AzAccount -Tenant $TenantID -Subscription $SubscriptionID"
   ]
  },
  {
   "cell_type": "markdown",
   "metadata": {},
   "source": [
    "### Create App Registration"
   ]
  },
  {
   "cell_type": "code",
   "execution_count": null,
   "metadata": {
    "dotnet_interactive": {
     "language": "pwsh"
    },
    "polyglot_notebook": {
     "kernelName": "pwsh"
    }
   },
   "outputs": [],
   "source": [
    "$AppRegistration = New-AzADApplication -DisplayName $AppRegistrationName #-RequiredResourceAccess $RequiredResourceAccess\n",
    "$AppRegistration | Select DisplayName, AppId, Id"
   ]
  },
  {
   "cell_type": "markdown",
   "metadata": {},
   "source": [
    "### Add API Permissions"
   ]
  },
  {
   "cell_type": "markdown",
   "metadata": {},
   "source": [
    "| **Scope** | **Type** | **Permission** | **Id** | **Resource App ID** |\n",
    "|-----------|----------|----------------|------------------------|------------------------|\n",
    "| User.Read | Delegated | Sign in and read user profile | e1fe6dd8-ba31-4d61-89e7-88639da4683d | 00000003-0000-0000-c000-000000000000 (Microsoft Graph) |\n",
    "| Device.ReadWrite.All | Application | Read and write devices | 1138cb37-bd11-4084-a2b7-9f71582aeddb  | 00000003-0000-0000-c000-000000000000 (Microsoft Graph) |\n",
    "| DeviceManagementConfiguration.Read.All | Application | Read Microsoft Intune device configuration and policies | dc377aa6-52d8-4e23-b271-2a7ae04cedf3 | 00000003-0000-0000-c000-000000000000 (Microsoft Graph) |\n",
    "| DeviceManagementManagedDevices.Read.All | Application | Read Microsoft Intune devices | f51be20-0bb4-4fed-bf7b-db946066c75e | 00000003-0000-0000-c000-000000000000 (Microsoft Graph) |"
   ]
  },
  {
   "cell_type": "markdown",
   "metadata": {},
   "source": [
    "#### Add API Permissions to Azure AD Application"
   ]
  },
  {
   "cell_type": "code",
   "execution_count": null,
   "metadata": {
    "dotnet_interactive": {
     "language": "pwsh"
    },
    "polyglot_notebook": {
     "kernelName": "pwsh"
    }
   },
   "outputs": [],
   "source": [
    "# User.Read\n",
    "Add-AzADAppPermission `\n",
    "    -ObjectId $AppRegistration.Id `\n",
    "    -ApiId 00000003-0000-0000-c000-000000000000  `\n",
    "    -PermissionId e1fe6dd8-ba31-4d61-89e7-88639da4683d  `\n",
    "    -Type Scope\n",
    "\n",
    "# Device.ReadWrite.All\n",
    "Add-AzADAppPermission  `\n",
    "    -ObjectId $AppRegistration.Id `\n",
    "    -ApiId 00000003-0000-0000-c000-000000000000  `\n",
    "    -PermissionId 1138cb37-bd11-4084-a2b7-9f71582aeddb  `\n",
    "    -Type Role\n",
    "\n",
    "# DeviceManagementConfiguration.Read.All\n",
    "Add-AzADAppPermission  `\n",
    "    -ObjectId $AppRegistration.Id `\n",
    "    -ApiId 00000003-0000-0000-c000-000000000000  `\n",
    "    -PermissionId dc377aa6-52d8-4e23-b271-2a7ae04cedf3  `\n",
    "    -Type Role\n",
    "\n",
    "# DeviceManagementConfiguration.ReadWrite.All\n",
    "Add-AzADAppPermission  `\n",
    "    -ObjectId $AppRegistration.Id `\n",
    "    -ApiId 00000003-0000-0000-c000-000000000000  `\n",
    "    -PermissionId 2f51be20-0bb4-4fed-bf7b-db946066c75e  `\n",
    "    -Type Role"
   ]
  },
  {
   "cell_type": "markdown",
   "metadata": {},
   "source": [
    "#### List Permissions"
   ]
  },
  {
   "cell_type": "code",
   "execution_count": null,
   "metadata": {
    "dotnet_interactive": {
     "language": "pwsh"
    },
    "polyglot_notebook": {
     "kernelName": "pwsh"
    }
   },
   "outputs": [],
   "source": [
    "Get-AzADAppPermission  -ObjectId $AppRegistration.Id"
   ]
  },
  {
   "cell_type": "markdown",
   "metadata": {},
   "source": [
    "### Get Certificate and set to App Registration"
   ]
  },
  {
   "cell_type": "code",
   "execution_count": null,
   "metadata": {
    "dotnet_interactive": {
     "language": "pwsh"
    },
    "polyglot_notebook": {
     "kernelName": "pwsh"
    }
   },
   "outputs": [],
   "source": [
    "$cer = New-Object System.Security.Cryptography.X509Certificates.X509Certificate2 $PubCertFilePath\n",
    "$CertValue = $cer.GetRawCertData()\n",
    "$CertValue = [System.Convert]::ToBase64String($CertValue)\n",
    "New-AzADAppCredential -CertValue $CertValue -StartDate $cer.NotBefore -EndDate $cer.NotAfter -ApplicationId $AppRegistration.AppId"
   ]
  },
  {
   "cell_type": "markdown",
   "metadata": {},
   "source": [
    "### Grant Admin Consent on the Azure Portal"
   ]
  },
  {
   "cell_type": "code",
   "execution_count": null,
   "metadata": {
    "dotnet_interactive": {
     "language": "pwsh"
    },
    "polyglot_notebook": {
     "kernelName": "pwsh"
    }
   },
   "outputs": [],
   "source": [
    "$Uri = \"https://aad.portal.azure.com/#view/Microsoft_AAD_RegisteredApps/ApplicationMenuBlade/~/CallAnAPI/appId/$($AppRegistration.AppId)/isMSAApp~/false\"\n",
    "\n",
    "Write-Host \"Grant Admin Consent for $AppRegistrationName\"\n",
    "Write-Host \"Review and Permission and Grant admin consent\"\n",
    "Write-Host \"GoTo: $Uri\""
   ]
  },
  {
   "cell_type": "markdown",
   "metadata": {},
   "source": [
    "Make sure you granted admin consent on the Entra ID app registration"
   ]
  },
  {
   "cell_type": "markdown",
   "metadata": {},
   "source": [
    "## Automation Account"
   ]
  },
  {
   "cell_type": "markdown",
   "metadata": {},
   "source": [
    "### Connect to Azure Subscription (optional, if not connected yet)"
   ]
  },
  {
   "cell_type": "code",
   "execution_count": null,
   "metadata": {
    "dotnet_interactive": {
     "language": "pwsh"
    },
    "polyglot_notebook": {
     "kernelName": "pwsh"
    }
   },
   "outputs": [],
   "source": [
    "Connect-AzAccount -Tenant $TenantID -Subscription $SubscriptionID"
   ]
  },
  {
   "cell_type": "markdown",
   "metadata": {},
   "source": [
    "### Create Resource Group (optional)"
   ]
  },
  {
   "cell_type": "code",
   "execution_count": null,
   "metadata": {
    "dotnet_interactive": {
     "language": "pwsh"
    },
    "polyglot_notebook": {
     "kernelName": "pwsh"
    }
   },
   "outputs": [],
   "source": [
    "New-AzResourceGroup -Name $ResourceGroupName -Location $Location"
   ]
  },
  {
   "cell_type": "markdown",
   "metadata": {},
   "source": [
    "### Create Automation Account"
   ]
  },
  {
   "cell_type": "code",
   "execution_count": null,
   "metadata": {
    "dotnet_interactive": {
     "language": "pwsh"
    },
    "polyglot_notebook": {
     "kernelName": "pwsh"
    }
   },
   "outputs": [],
   "source": [
    "$AzAutomationAccount = New-AzAutomationAccount -Name $AutomationAccountName -ResourceGroupName $ResourceGroupName -Location $Location -Plan $Plan\n",
    "$AzAutomationAccount | Select AutomationAccountName , Location, State"
   ]
  },
  {
   "cell_type": "markdown",
   "metadata": {},
   "source": [
    "### Add Certificate to Automation Account"
   ]
  },
  {
   "cell_type": "code",
   "execution_count": null,
   "metadata": {
    "dotnet_interactive": {
     "language": "pwsh"
    },
    "polyglot_notebook": {
     "kernelName": "pwsh"
    }
   },
   "outputs": [],
   "source": [
    "Write-Host $PrivCertFilePath\n",
    "#!set --name CertPW --value @password:\"Please enter the Certificate (pfx) $PrivCertFilePath password\"\n",
    "$Password = ConvertTo-SecureString -String $CertPW -AsPlainText -Force\n",
    "$AzAutomationCertificate = New-AzAutomationCertificate `\n",
    "    -AutomationAccountName $AutomationAccountName `\n",
    "    -Name $CertifcateName `\n",
    "    -Path $PrivCertFilePath `\n",
    "    -Password $Password `\n",
    "    -ResourceGroupName $ResourceGroupName\n",
    "$AzAutomationCertificate"
   ]
  },
  {
   "cell_type": "markdown",
   "metadata": {},
   "source": [
    "### Create Automation Account Connection"
   ]
  },
  {
   "cell_type": "code",
   "execution_count": null,
   "metadata": {
    "dotnet_interactive": {
     "language": "pwsh"
    },
    "polyglot_notebook": {
     "kernelName": "pwsh"
    }
   },
   "outputs": [],
   "source": [
    "$RunAsAccountConnectionFieldValues = @{\n",
    "   \"ApplicationId\" = $AppRegistration.AppId; \n",
    "   \"TenantId\" = $TenantId; \n",
    "   \"CertificateThumbprint\" = $AzAutomationCertificate.Thumbprint;\n",
    "   \"SubscriptionId\" = $SubscriptionID\n",
    "}\n",
    "\n",
    "$RunAsAccountConnectionFieldValues\n",
    "\n",
    "New-AzAutomationConnection -Name $AppConnectionName  `\n",
    "    -ConnectionTypeName AzureServicePrincipal `\n",
    "    -ConnectionFieldValues $RunAsAccountConnectionFieldValues `\n",
    "    -ResourceGroupName $ResourceGroupName `\n",
    "    -AutomationAccountName $AutomationAccountName `\n",
    "    -Description \"Establishes a connection to the App Registration, with the certificate\""
   ]
  },
  {
   "cell_type": "markdown",
   "metadata": {},
   "source": [
    "### Create Automation Account Variables"
   ]
  },
  {
   "cell_type": "code",
   "execution_count": null,
   "metadata": {
    "dotnet_interactive": {
     "language": "pwsh"
    },
    "polyglot_notebook": {
     "kernelName": "pwsh"
    }
   },
   "outputs": [],
   "source": [
    "New-AzAutomationVariable `\n",
    "    -AutomationAccountName $AutomationAccountName `\n",
    "    -Name \"ClearValue\" `\n",
    "    -Value $ClearValue `\n",
    "    -ResourceGroupName $ResourceGroupName `\n",
    "    -Description \"Define the value from the remediation script output that should clear the extensionAttribute, e.g. clear\" `\n",
    "    -Encrypted $False\n",
    "\n",
    "New-AzAutomationVariable `\n",
    "    -AutomationAccountName $AutomationAccountName `\n",
    "    -Name \"DeviceClassificationList\" `\n",
    "    -Value $DeviceClassificationList `\n",
    "    -ResourceGroupName $ResourceGroupName `\n",
    "    -Description \"Comma separted list of Classifications. Make sure there are no spaces before and after the comma and have the clear value in the list as well e.g. CAD Device,Standard Device,Local Admin Device, clear\" `\n",
    "    -Encrypted $False\n",
    "\n",
    "New-AzAutomationVariable `\n",
    "    -AutomationAccountName $AutomationAccountName `\n",
    "    -Name \"ExtensionAttribute\" `\n",
    "    -Value $ExtensionAttribute `\n",
    "    -ResourceGroupName $ResourceGroupName `\n",
    "    -Description \"Set the extensionAttribute1 to extensionAttribute15. Make sure it's not used for any other purpose. e.g. extensionAttribute1\" `\n",
    "    -Encrypted $False\n",
    "\n",
    "New-AzAutomationVariable `\n",
    "    -AutomationAccountName $AutomationAccountName `\n",
    "    -Name \"RemediationScriptID\" `\n",
    "    -Value $RemediationScriptID `\n",
    "    -ResourceGroupName $ResourceGroupName `\n",
    "    -Description \"Id of the remediation script get it from https://graph.microsoft.com/beta/deviceManagement/deviceHealthScripts/\" `\n",
    "    -Encrypted $False"
   ]
  },
  {
   "cell_type": "markdown",
   "metadata": {},
   "source": [
    "### Add Azure Automation Microsoft.Graph.Authentication Module"
   ]
  },
  {
   "cell_type": "code",
   "execution_count": null,
   "metadata": {
    "dotnet_interactive": {
     "language": "pwsh"
    },
    "polyglot_notebook": {
     "kernelName": "pwsh"
    }
   },
   "outputs": [],
   "source": [
    "New-AzAutomationModule  `\n",
    "    -AutomationAccountName $AutomationAccountName  `\n",
    "    -Name \"Microsoft.Graph.Authentication\"  `\n",
    "    -ContentLink \"https://devopsgallerystorage.blob.core.windows.net:443/packages/microsoft.graph.authentication.2.12.0.nupkg\"  `\n",
    "    -ResourceGroupName $ResourceGroupName  `\n",
    "    -RuntimeVersion 7.2"
   ]
  },
  {
   "cell_type": "code",
   "execution_count": null,
   "metadata": {
    "dotnet_interactive": {
     "language": "pwsh"
    },
    "polyglot_notebook": {
     "kernelName": "pwsh"
    }
   },
   "outputs": [],
   "source": [
    "Get-AzAutomationModule  `\n",
    "    -AutomationAccountName $AutomationAccountName  `\n",
    "    -Name \"Microsoft.Graph.Authentication\"  `\n",
    "    -ResourceGroupName $ResourceGroupName  `\n",
    "    -RuntimeVersion 7.2 | Select Name, ProvisioningState"
   ]
  },
  {
   "cell_type": "markdown",
   "metadata": {},
   "source": [
    "### Import Azure Automation Runbook"
   ]
  },
  {
   "cell_type": "code",
   "execution_count": null,
   "metadata": {
    "dotnet_interactive": {
     "language": "pwsh"
    },
    "polyglot_notebook": {
     "kernelName": "pwsh"
    }
   },
   "outputs": [],
   "source": [
    "Import-AzAutomationRunbook  `\n",
    "    -AutomationAccountName $AutomationAccountName `\n",
    "    -Name $RunBookName `\n",
    "    -Path \".\\AutomationAccount\\Runbook.ps1\" `\n",
    "    -Published  `\n",
    "    -ResourceGroupName $ResourceGroupName `\n",
    "    -Type PowerShell72"
   ]
  },
  {
   "cell_type": "markdown",
   "metadata": {},
   "source": [
    "### Schedule Azure Automation Runbook"
   ]
  },
  {
   "cell_type": "code",
   "execution_count": null,
   "metadata": {
    "dotnet_interactive": {
     "language": "pwsh"
    },
    "polyglot_notebook": {
     "kernelName": "pwsh"
    }
   },
   "outputs": [],
   "source": [
    "$TimeZone = ([System.TimeZoneInfo]::Local).Id\n",
    "New-AzAutomationSchedule  `\n",
    "    -AutomationAccountName $AutomationAccountName  `\n",
    "    -Name \"Daily\"  `\n",
    "    -StartTime $DailyScheduleTime  `\n",
    "    -DayInterval 1  `\n",
    "    -ResourceGroupName $ResourceGroupName  `\n",
    "    -TimeZone $TimeZone"
   ]
  },
  {
   "cell_type": "code",
   "execution_count": null,
   "metadata": {
    "dotnet_interactive": {
     "language": "pwsh"
    },
    "polyglot_notebook": {
     "kernelName": "pwsh"
    }
   },
   "outputs": [],
   "source": [
    "Register-AzAutomationScheduledRunbook   `\n",
    "    -RunbookName $RunBookName  `\n",
    "    -ScheduleName \"Daily\"   `\n",
    "    -AutomationAccountName $AutomationAccountName  `\n",
    "    -ResourceGroupName $ResourceGroupName"
   ]
  }
 ],
 "metadata": {
  "kernelspec": {
   "display_name": ".NET (PowerShell)",
   "language": "PowerShell",
   "name": ".net-pwsh"
  },
  "language_info": {
   "name": "polyglot-notebook"
  },
  "polyglot_notebook": {
   "kernelInfo": {
    "defaultKernelName": "pwsh",
    "items": [
     {
      "aliases": [],
      "languageName": "pwsh",
      "name": "pwsh"
     }
    ]
   }
  }
 },
 "nbformat": 4,
 "nbformat_minor": 2
}
